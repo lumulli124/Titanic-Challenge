{
 "cells": [
  {
   "cell_type": "code",
   "execution_count": null,
   "id": "ed3be89b",
   "metadata": {},
   "outputs": [],
   "source": [
    "import pandas as pd\n",
    "from pandas import Series, DataFrame"
   ]
  },
  {
   "cell_type": "code",
   "execution_count": null,
   "id": "eeac5c00",
   "metadata": {},
   "outputs": [],
   "source": [
    "titanic_df = pd.read_csv('train.csv')"
   ]
  },
  {
   "cell_type": "code",
   "execution_count": null,
   "id": "6d98a7fd",
   "metadata": {},
   "outputs": [],
   "source": [
    "titanic_df.head()"
   ]
  },
  {
   "cell_type": "code",
   "execution_count": null,
   "id": "c26b424c",
   "metadata": {},
   "outputs": [],
   "source": [
    "titanic_df.info()"
   ]
  },
  {
   "cell_type": "code",
   "execution_count": null,
   "id": "9eb6b2c6-e742-45b0-98a0-488b236260d5",
   "metadata": {},
   "outputs": [],
   "source": [
    "#titanic_df['Pclass']=titanic_df['Pclass'].astype(str)"
   ]
  },
  {
   "cell_type": "code",
   "execution_count": null,
   "id": "78335015",
   "metadata": {},
   "outputs": [],
   "source": [
    "import numpy as np\n",
    "import matplotlib.pyplot as plt\n",
    "import seaborn as sns\n",
    "%matplotlib inline"
   ]
  },
  {
   "cell_type": "code",
   "execution_count": null,
   "id": "3dc3cb17-7523-4614-bbcd-7d10f928e5f8",
   "metadata": {},
   "outputs": [],
   "source": [
    "titanic_df.Sex.value_counts()"
   ]
  },
  {
   "cell_type": "code",
   "execution_count": null,
   "id": "18421d07",
   "metadata": {},
   "outputs": [],
   "source": [
    "titanic_df.Sex.value_counts().plot(kind='bar')\n",
    "plt.show()"
   ]
  },
  {
   "cell_type": "code",
   "execution_count": null,
   "id": "0d67dfc6-9728-4067-a8e1-1d6c9137c8b5",
   "metadata": {},
   "outputs": [],
   "source": [
    "sns.countplot(titanic_df, x='Pclass',hue='Sex')"
   ]
  },
  {
   "cell_type": "code",
   "execution_count": null,
   "id": "0362b5b5-f73a-40c1-9247-e10eb5d658cd",
   "metadata": {},
   "outputs": [],
   "source": [
    "def male_female_child(passenger):\n",
    "    age,sex = passenger\n",
    "\n",
    "    if age < 16:\n",
    "        return 'child'\n",
    "    else:\n",
    "        return sex"
   ]
  },
  {
   "cell_type": "code",
   "execution_count": null,
   "id": "abb91291-aa1d-4c7e-95c2-2d1304179ce5",
   "metadata": {},
   "outputs": [],
   "source": [
    "titanic_df['person'] = titanic_df[['Age','Sex']].apply(male_female_child,axis=1)"
   ]
  },
  {
   "cell_type": "code",
   "execution_count": null,
   "id": "f582360b-34d0-42fe-92f0-410702b42c5a",
   "metadata": {},
   "outputs": [],
   "source": [
    "titanic_df[0:10]"
   ]
  },
  {
   "cell_type": "code",
   "execution_count": null,
   "id": "dc7dcef9-19cf-4b9b-a196-da5770eaeba6",
   "metadata": {},
   "outputs": [],
   "source": [
    "sns.countplot(titanic_df,x='Pclass',hue='person')"
   ]
  },
  {
   "cell_type": "code",
   "execution_count": null,
   "id": "ea079ac4-719a-4668-a889-f3049201664f",
   "metadata": {},
   "outputs": [],
   "source": [
    "sns.countplot(x = 'Pclass',\n",
    "              data = titanic_df,\n",
    "              order = titanic_df['Pclass'].value_counts().index)\n"
   ]
  },
  {
   "cell_type": "code",
   "execution_count": null,
   "id": "2c189a51-d76f-4ffd-8ca1-e1fdfa5f6ca9",
   "metadata": {},
   "outputs": [],
   "source": [
    "titanic_df['Pclass'].value_counts().plot(kind=\"bar\")\n",
    "\n",
    "plt.show()"
   ]
  },
  {
   "cell_type": "code",
   "execution_count": null,
   "id": "9440757a-35db-4223-9c63-e06158b23f22",
   "metadata": {},
   "outputs": [],
   "source": [
    "titanic_df['Age'].hist(bins=70)"
   ]
  },
  {
   "cell_type": "code",
   "execution_count": null,
   "id": "38b7662e-f23a-4aac-8f8b-1e117ec209e9",
   "metadata": {},
   "outputs": [],
   "source": [
    "titanic_df['Age'].mean()"
   ]
  },
  {
   "cell_type": "code",
   "execution_count": null,
   "id": "f03d5dd5-f678-4cc6-aec4-eb5d4dc8151d",
   "metadata": {},
   "outputs": [],
   "source": [
    "titanic_df['person'].value_counts()"
   ]
  },
  {
   "cell_type": "code",
   "execution_count": null,
   "id": "043644f9-84b5-456d-b716-00313e5df7ab",
   "metadata": {},
   "outputs": [],
   "source": [
    "fig = sns.FacetGrid(titanic_df, hue='Sex',aspect=4)\n",
    "fig.map(sns.kdeplot,'Age',fill=True)\n",
    "\n",
    "oldest = titanic_df['Age'].max()\n",
    "\n",
    "fig.set(xlim=(0,oldest))\n",
    "\n",
    "fig.add_legend()"
   ]
  },
  {
   "cell_type": "code",
   "execution_count": null,
   "id": "77775375-bb0e-4631-b779-a4a0cf8596c8",
   "metadata": {},
   "outputs": [],
   "source": [
    "fig = sns.FacetGrid(titanic_df, hue='person',aspect=4)\n",
    "fig.map(sns.kdeplot,'Age',fill=True)\n",
    "\n",
    "oldest = titanic_df['Age'].max()\n",
    "\n",
    "fig.set(xlim=(0,oldest))\n",
    "\n",
    "fig.add_legend()"
   ]
  },
  {
   "cell_type": "code",
   "execution_count": null,
   "id": "fa0b6d8b-061f-4eb4-acaf-675e2486de92",
   "metadata": {},
   "outputs": [],
   "source": [
    "fig = sns.FacetGrid(titanic_df, hue='Pclass',aspect=4)\n",
    "fig.map(sns.kdeplot,'Age',fill=True)\n",
    "\n",
    "oldest = titanic_df['Age'].max()\n",
    "\n",
    "fig.set(xlim=(0,oldest))\n",
    "\n",
    "fig.add_legend()"
   ]
  },
  {
   "cell_type": "code",
   "execution_count": null,
   "id": "6e31d087-4e5a-44a8-8dbc-b13fb23ecad7",
   "metadata": {},
   "outputs": [],
   "source": [
    "titanic_df.head()"
   ]
  },
  {
   "cell_type": "code",
   "execution_count": null,
   "id": "9dfd5dbe-3d36-4079-a4c5-c2925a1a3f9f",
   "metadata": {},
   "outputs": [],
   "source": [
    "deck = titanic_df['Cabin'].dropna()"
   ]
  },
  {
   "cell_type": "code",
   "execution_count": null,
   "id": "03a1f171-f26b-412c-bb79-85051c46b199",
   "metadata": {},
   "outputs": [],
   "source": [
    "deck.head()"
   ]
  },
  {
   "cell_type": "code",
   "execution_count": null,
   "id": "1c52523c-0b01-42ad-89b5-7e090f7ab67f",
   "metadata": {},
   "outputs": [],
   "source": [
    "levels"
   ]
  },
  {
   "cell_type": "code",
   "execution_count": null,
   "id": "d8161a43-b442-499e-9405-ea7806507713",
   "metadata": {},
   "outputs": [],
   "source": [
    "levels = []\n",
    "\n",
    "for level in deck:\n",
    "    levels.append(level[0])\n",
    "\n",
    "cabin_df = DataFrame(levels)\n",
    "cabin_df.columns = ['Cabin']\n",
    "sns.countplot(x='Cabin',data=cabin_df,order=cabin_df['Cabin'].value_counts(ascending=False).index,palette='winter_d')"
   ]
  },
  {
   "cell_type": "code",
   "execution_count": null,
   "id": "94d61e62-233d-40be-b725-e212f98e77f1",
   "metadata": {},
   "outputs": [],
   "source": [
    "cabin_df = cabin_df[cabin_df.Cabin!='T']\n",
    "sns.countplot(x='Cabin',data=cabin_df,order=cabin_df['Cabin'].value_counts(ascending=False).index,palette='summer')"
   ]
  },
  {
   "cell_type": "code",
   "execution_count": null,
   "id": "789d7eba-9431-4795-bb13-50e69a7ad3a5",
   "metadata": {},
   "outputs": [],
   "source": [
    "titanic_df.head()"
   ]
  },
  {
   "cell_type": "code",
   "execution_count": null,
   "id": "77194b2d-7f51-4ec8-b3d7-82ceac5ed804",
   "metadata": {},
   "outputs": [],
   "source": [
    "sns.countplot(data=titanic_df,x='Embarked',hue='Pclass',order=['C','Q','S'])"
   ]
  },
  {
   "cell_type": "code",
   "execution_count": null,
   "id": "aca6eedb-39ef-4052-89da-46670c6269e7",
   "metadata": {},
   "outputs": [],
   "source": [
    "# Who was alone and who was with family?\n",
    "titanic_df.head()"
   ]
  },
  {
   "cell_type": "code",
   "execution_count": null,
   "id": "916eaeee-d0fc-4f35-b179-eabc96de3d0b",
   "metadata": {},
   "outputs": [],
   "source": [
    "titanic_df['Alone'] = titanic_df.SibSp +titanic_df.Parch"
   ]
  },
  {
   "cell_type": "code",
   "execution_count": null,
   "id": "84d938db-ff0e-49e5-8ca2-b4872c8d405d",
   "metadata": {},
   "outputs": [],
   "source": [
    "titanic_df['Alone']"
   ]
  },
  {
   "cell_type": "code",
   "execution_count": null,
   "id": "e1bde960-a2f1-44c2-8dac-8a993572ceda",
   "metadata": {},
   "outputs": [],
   "source": [
    "titanic_df['Alone'].loc[titanic_df['Alone']>0] = 'With Family'\n",
    "\n",
    "titanic_df['Alone'].loc[titanic_df['Alone']==0] = 'Alone'"
   ]
  },
  {
   "cell_type": "code",
   "execution_count": null,
   "id": "de962ea1-b3a1-40cb-87b2-1cfee6fe66dc",
   "metadata": {},
   "outputs": [],
   "source": [
    "titanic_df.head()"
   ]
  },
  {
   "cell_type": "code",
   "execution_count": null,
   "id": "3d94e928-2cea-44a9-94a4-b5328bebc703",
   "metadata": {},
   "outputs": [],
   "source": [
    "sns.countplot(x='Alone',data=titanic_df,palette='Blues')"
   ]
  },
  {
   "cell_type": "code",
   "execution_count": null,
   "id": "c86e0f12-5785-47c2-945f-1ee56a8b6446",
   "metadata": {},
   "outputs": [],
   "source": [
    "# What factors helped someone?\n",
    "titanic_df['Survivor'] = titanic_df.Survived.map({0:'no',1:'yes'})\n",
    "\n",
    "sns.countplot(x='Survivor', data=titanic_df,palette='Set1')\n"
   ]
  },
  {
   "cell_type": "code",
   "execution_count": null,
   "id": "3a9859eb-2694-49ca-be3e-5e25b6093004",
   "metadata": {},
   "outputs": [],
   "source": [
    "sns.countplot(x='Pclass',hue='Survived',data=titanic_df)"
   ]
  },
  {
   "cell_type": "code",
   "execution_count": null,
   "id": "95a72ae2-2fcd-45da-a624-07b949b45223",
   "metadata": {},
   "outputs": [],
   "source": [
    "g=sns.PairGrid(data=titanic_df,x_vars='Pclass',y_vars='Survived')\n",
    "g.map(sns.pointplot)\n",
    "g.set(ylim=(0, 1))\n",
    "sns.despine(fig=g.fig, left=True)"
   ]
  },
  {
   "cell_type": "code",
   "execution_count": null,
   "id": "9720e4e1-ac4f-4f12-87c7-e30884c9e6eb",
   "metadata": {},
   "outputs": [],
   "source": [
    "g = sns.PairGrid(titanic_df, y_vars=\"Survived\",\n",
    "                 x_vars=[\"Pclass\", \"Sex\", \"Alone\"],\n",
    "                 hue='person',\n",
    "                 height=5, aspect=.5)\n",
    "g.map(sns.pointplot)\n",
    "g.set(ylim=(0, 1))\n",
    "sns.despine(fig=g.fig, left=True)"
   ]
  },
  {
   "cell_type": "code",
   "execution_count": null,
   "id": "173dfd04-7957-4f01-859b-464bca12ab36",
   "metadata": {},
   "outputs": [],
   "source": [
    "sns.lmplot(x='Age',y='Survived',data=titanic_df)"
   ]
  },
  {
   "cell_type": "code",
   "execution_count": null,
   "id": "5f7a3e61-b35e-42b2-917b-6dbee246d331",
   "metadata": {},
   "outputs": [],
   "source": [
    "sns.lmplot(x='Age',y='Survived',hue='Pclass',data=titanic_df,palette='winter')"
   ]
  },
  {
   "cell_type": "code",
   "execution_count": null,
   "id": "6f1fd509-1d5e-4d19-93ee-42e17cf2b514",
   "metadata": {},
   "outputs": [],
   "source": [
    "generations = [10,20,30,40,60,80]\n",
    "\n",
    "sns.lmplot(x='Age',y='Survived',hue='Pclass',data=titanic_df,palette='winter',x_bins=generations)"
   ]
  },
  {
   "cell_type": "code",
   "execution_count": null,
   "id": "4bc2167d-7ec2-4683-99f7-3a228cf5958e",
   "metadata": {},
   "outputs": [],
   "source": [
    "sns.lmplot(x='Age',y='Survived',hue='Sex',data=titanic_df,palette='winter',x_bins=generations)"
   ]
  },
  {
   "cell_type": "code",
   "execution_count": null,
   "id": "c822a247-ca0c-41db-9fe2-06e34830018c",
   "metadata": {},
   "outputs": [],
   "source": [
    "# did the deck have an effect on the passegners survival rate? "
   ]
  },
  {
   "cell_type": "code",
   "execution_count": null,
   "id": "49737325-3d1a-446b-9d85-04a61c80879b",
   "metadata": {},
   "outputs": [],
   "source": [
    "titanic_df['Cabin'] = DataFrame(levels)\n",
    "cabin_c = titanic_df[titanic_df.Cabin!='T']"
   ]
  },
  {
   "cell_type": "code",
   "execution_count": null,
   "id": "a4431872-d1ad-4900-ab99-50d632422129",
   "metadata": {},
   "outputs": [],
   "source": [
    "sns.lmplot(x='Age',y='Survived',hue='Cabin',data=cabin_c,palette='winter',x_bins=generations)"
   ]
  },
  {
   "cell_type": "code",
   "execution_count": null,
   "id": "eed89b0d-7f0e-483c-8376-af62cd0fa54f",
   "metadata": {},
   "outputs": [],
   "source": [
    "# did having a family member increase the odds of surviving the crash?"
   ]
  },
  {
   "cell_type": "code",
   "execution_count": null,
   "id": "733b7cdf-51f9-4ac2-8296-8bb5d891fb49",
   "metadata": {},
   "outputs": [],
   "source": [
    "sns.lmplot(x='Age',y='Survived',hue='Alone',data=titanic_df,palette='winter',x_bins=generations)"
   ]
  },
  {
   "cell_type": "code",
   "execution_count": null,
   "id": "d60fb522-c979-4f31-85b9-a434ec98979b",
   "metadata": {},
   "outputs": [],
   "source": [
    "titanic_df.hist('Alone',bins=20, by='Survive',sharex=True)\n"
   ]
  },
  {
   "cell_type": "code",
   "execution_count": null,
   "id": "1a178f41-1c41-4669-a887-aea32e1a58f8",
   "metadata": {},
   "outputs": [],
   "source": []
  },
  {
   "cell_type": "code",
   "execution_count": null,
   "id": "ba72ebd9-88be-47f4-83dd-19466edd05f0",
   "metadata": {},
   "outputs": [],
   "source": []
  },
  {
   "cell_type": "code",
   "execution_count": null,
   "id": "2c9d5f94-7afc-4f14-a6a4-e6111417ae2e",
   "metadata": {},
   "outputs": [],
   "source": []
  }
 ],
 "metadata": {
  "kernelspec": {
   "display_name": "Python 3 (ipykernel)",
   "language": "python",
   "name": "python3"
  },
  "language_info": {
   "codemirror_mode": {
    "name": "ipython",
    "version": 3
   },
   "file_extension": ".py",
   "mimetype": "text/x-python",
   "name": "python",
   "nbconvert_exporter": "python",
   "pygments_lexer": "ipython3",
   "version": "3.11.5"
  }
 },
 "nbformat": 4,
 "nbformat_minor": 5
}
